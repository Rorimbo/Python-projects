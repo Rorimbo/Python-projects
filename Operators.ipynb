{
 "cells": [
  {
   "cell_type": "code",
   "execution_count": 5,
   "id": "4bbcd25d",
   "metadata": {},
   "outputs": [
    {
     "name": "stdout",
     "output_type": "stream",
     "text": [
      "Привет\n"
     ]
    }
   ],
   "source": [
    "print('Привет')"
   ]
  },
  {
   "cell_type": "code",
   "execution_count": 24,
   "id": "99809238",
   "metadata": {},
   "outputs": [
    {
     "name": "stdout",
     "output_type": "stream",
     "text": [
      "x = 5\n"
     ]
    }
   ],
   "source": [
    "x = 5\n",
    "y = 'x ='\n",
    "print (y, x)"
   ]
  },
  {
   "cell_type": "code",
   "execution_count": 38,
   "id": "e5299edf",
   "metadata": {},
   "outputs": [
    {
     "name": "stdout",
     "output_type": "stream",
     "text": [
      "tho\n",
      "Pytho\n",
      "ython\n",
      "P\n"
     ]
    }
   ],
   "source": [
    "z = 'Python'\n",
    "print (z[2:5]) # slice / Срезы\n",
    "print (z[:5])\n",
    "print (z[1:])\n",
    "print (z[0])"
   ]
  },
  {
   "cell_type": "code",
   "execution_count": 30,
   "id": "d9fa1646",
   "metadata": {},
   "outputs": [
    {
     "name": "stdout",
     "output_type": "stream",
     "text": [
      "<class 'int'>\n",
      "<class 'float'>\n",
      "<class 'complex'>\n"
     ]
    }
   ],
   "source": [
    "a = -1 # type\n",
    "b = -1.8\n",
    "c = -1j\n",
    "\n",
    "print (type(a))  \n",
    "print (type(b))  \n",
    "print (type(c))"
   ]
  },
  {
   "cell_type": "code",
   "execution_count": 31,
   "id": "568db052",
   "metadata": {},
   "outputs": [
    {
     "name": "stdout",
     "output_type": "stream",
     "text": [
      "1\n",
      "2\n",
      "3\n"
     ]
    }
   ],
   "source": [
    "a = int (1) # int\n",
    "b = int (2.8)\n",
    "c = int (\"3\")\n",
    "\n",
    "print (a)\n",
    "print (b)\n",
    "print (c)"
   ]
  },
  {
   "cell_type": "code",
   "execution_count": 32,
   "id": "72f45ade",
   "metadata": {},
   "outputs": [
    {
     "name": "stdout",
     "output_type": "stream",
     "text": [
      "1.0\n",
      "2.8\n",
      "3.0\n"
     ]
    }
   ],
   "source": [
    "a = float (1) # float\n",
    "b = float (2.8)\n",
    "c = float (\"3\")\n",
    "\n",
    "print (a)\n",
    "print (b)\n",
    "print (c)"
   ]
  },
  {
   "cell_type": "code",
   "execution_count": 36,
   "id": "440e1abf",
   "metadata": {},
   "outputs": [
    {
     "name": "stdout",
     "output_type": "stream",
     "text": [
      "1\n",
      "2.8\n",
      "s3\n"
     ]
    }
   ],
   "source": [
    "a = str (1) # str\n",
    "b = str (2.8)\n",
    "c = str (\"s3\")\n",
    "\n",
    "print (a)\n",
    "print (b)\n",
    "print (c)"
   ]
  },
  {
   "cell_type": "code",
   "execution_count": 29,
   "id": "5962a504",
   "metadata": {},
   "outputs": [
    {
     "name": "stdout",
     "output_type": "stream",
     "text": [
      "6\n"
     ]
    }
   ],
   "source": [
    "z = 'Python'\n",
    "print (len(z)) # Длина списка"
   ]
  },
  {
   "cell_type": "code",
   "execution_count": 39,
   "id": "b358035d",
   "metadata": {},
   "outputs": [
    {
     "name": "stdout",
     "output_type": "stream",
     "text": [
      "PYTHON\n",
      "python\n",
      "Pithon\n"
     ]
    }
   ],
   "source": [
    "z = 'Python'\n",
    "print (z.upper())\n",
    "print (z.lower())\n",
    "print (z.replace(\"y\", \"i\"))"
   ]
  },
  {
   "cell_type": "code",
   "execution_count": 58,
   "id": "4bf0ba24",
   "metadata": {},
   "outputs": [
    {
     "name": "stdout",
     "output_type": "stream",
     "text": [
      "x>z\n"
     ]
    }
   ],
   "source": [
    "x = 2 # if\n",
    "z = 1\n",
    "if x > z:  \n",
    "    print(\"x>z\")"
   ]
  },
  {
   "cell_type": "code",
   "execution_count": 59,
   "id": "c32f8a86",
   "metadata": {},
   "outputs": [
    {
     "name": "stdout",
     "output_type": "stream",
     "text": [
      "x<=z\n"
     ]
    }
   ],
   "source": [
    "x = 2 # elif\n",
    "z = 2\n",
    "if x > z:  \n",
    "    print(\"x>z\")\n",
    "elif x <= z:\n",
    "    print (\"x<=z\")"
   ]
  },
  {
   "cell_type": "code",
   "execution_count": 60,
   "id": "8fddf706",
   "metadata": {
    "scrolled": true
   },
   "outputs": [
    {
     "name": "stdout",
     "output_type": "stream",
     "text": [
      "x<=z\n"
     ]
    }
   ],
   "source": [
    "x = 2 # else\n",
    "z = 2\n",
    "if x > z:  \n",
    "    print(\"x>z\")\n",
    "else:\n",
    "    print (\"x<=z\")"
   ]
  },
  {
   "cell_type": "code",
   "execution_count": 61,
   "id": "55886971",
   "metadata": {},
   "outputs": [
    {
     "name": "stdout",
     "output_type": "stream",
     "text": [
      "x=z\n"
     ]
    }
   ],
   "source": [
    "x = 2 # elif / else\n",
    "z = 2\n",
    "if x > z:  \n",
    "    print(\"x>z\")\n",
    "elif x < z:\n",
    "    print (\"x<z\")\n",
    "else:\n",
    "    print (\"x=z\")"
   ]
  },
  {
   "cell_type": "code",
   "execution_count": 71,
   "id": "aecf3fa1",
   "metadata": {},
   "outputs": [
    {
     "name": "stdout",
     "output_type": "stream",
     "text": [
      "a=b & a=c\n"
     ]
    }
   ],
   "source": [
    "a = 5 # and\n",
    "b = 5\n",
    "c = 5\n",
    "if a > b and a > c:\n",
    "    print (\"a>b & a>c\")\n",
    "elif a > b and a < c:\n",
    "    print (\"a>b & a<c\")\n",
    "elif a < b and a < c:\n",
    "    print (\"a<b & a<c\")\n",
    "elif a < b and a > c:\n",
    "    print (\"a<b & a>c\")\n",
    "else:\n",
    "    print (\"a=b & a=c\")"
   ]
  },
  {
   "cell_type": "code",
   "execution_count": 57,
   "id": "49c80f01",
   "metadata": {},
   "outputs": [
    {
     "name": "stdout",
     "output_type": "stream",
     "text": [
      "a=b\n"
     ]
    }
   ],
   "source": [
    "a = 5 # or\n",
    "b = 5\n",
    "c = 5\n",
    "if a > b or a > c:\n",
    "    print (\"a>b\")\n",
    "elif a < b or a < c:\n",
    "    print (\"a<b\")\n",
    "else:\n",
    "    print (\"a=b\")"
   ]
  },
  {
   "cell_type": "code",
   "execution_count": 91,
   "id": "2e195ce2",
   "metadata": {},
   "outputs": [
    {
     "name": "stdout",
     "output_type": "stream",
     "text": [
      "a<=b & a<=c\n"
     ]
    }
   ],
   "source": [
    "a = 5 # not / and\n",
    "b = 5\n",
    "c = 5\n",
    "if not (a != b and a != c):\n",
    "    print (\"a<=b & a<=c\")"
   ]
  },
  {
   "cell_type": "code",
   "execution_count": 85,
   "id": "7922f32d",
   "metadata": {},
   "outputs": [],
   "source": [
    "a = 5 # not / or\n",
    "b = 5\n",
    "c = 5\n",
    "if not (a > b or a > c):\n",
    "    print (\"a<=b\")"
   ]
  }
 ],
 "metadata": {
  "kernelspec": {
   "display_name": "base",
   "language": "python",
   "name": "python3"
  },
  "language_info": {
   "codemirror_mode": {
    "name": "ipython",
    "version": 3
   },
   "file_extension": ".py",
   "mimetype": "text/x-python",
   "name": "python",
   "nbconvert_exporter": "python",
   "pygments_lexer": "ipython3",
   "version": "3.9.13 (main, Aug 25 2022, 23:51:50) [MSC v.1916 64 bit (AMD64)]"
  },
  "vscode": {
   "interpreter": {
    "hash": "ad2bdc8ecc057115af97d19610ffacc2b4e99fae6737bb82f5d7fb13d2f2c186"
   }
  }
 },
 "nbformat": 4,
 "nbformat_minor": 5
}
