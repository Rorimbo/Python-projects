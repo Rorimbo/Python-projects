{
 "cells": [
  {
   "cell_type": "code",
   "execution_count": 5,
   "id": "100b05e2",
   "metadata": {},
   "outputs": [
    {
     "name": "stdout",
     "output_type": "stream",
     "text": [
      "Наименьшее из четырех чисел: 1\n"
     ]
    }
   ],
   "source": [
    "try:    \n",
    "    a = int(input()) # Наименьшее из четырех чисел\n",
    "    b = int(input())\n",
    "    c = int(input())\n",
    "    d = int(input())\n",
    "\n",
    "    if a > b:\n",
    "        a = b\n",
    "    if c > d:\n",
    "        c = d\n",
    "    if a > c:\n",
    "        a = c\n",
    "    print('Наименьшее из четырех чисел:', a)\n",
    "\n",
    "except ValueError:\n",
    "    print('Это не целое число!')"
   ]
  },
  {
   "cell_type": "code",
   "execution_count": 51,
   "id": "e90233df",
   "metadata": {},
   "outputs": [
    {
     "name": "stdout",
     "output_type": "stream",
     "text": [
      "1\n",
      "2\n",
      "3\n",
      "1\n",
      "3\n",
      "6\n"
     ]
    }
   ],
   "source": [
    "a = list()  # Только +\n",
    "a.append(int(input()))\n",
    "a.append(int(input()))\n",
    "a.append(int(input()))\n",
    "s = 0\n",
    "for i in a:\n",
    "    if i >= 0:\n",
    "        s += i\n",
    "        print(s)"
   ]
  },
  {
   "cell_type": "code",
   "execution_count": null,
   "id": "64920470",
   "metadata": {},
   "outputs": [],
   "source": [
    "a = int(input())\n",
    "a += int(input())\n",
    "a += int(input())\n",
    "print(a)"
   ]
  },
  {
   "cell_type": "code",
   "execution_count": 13,
   "id": "89362e5f",
   "metadata": {},
   "outputs": [
    {
     "name": "stdout",
     "output_type": "stream",
     "text": [
      "10\n",
      "Принадлежит\n"
     ]
    }
   ],
   "source": [
    "a = int(input()) # Принадлежность\n",
    "print('Принадлежит') if (-30 <= a <= -2 or 7 <= a <= 25) else print('Не принадлежит')"
   ]
  },
  {
   "cell_type": "code",
   "execution_count": 14,
   "id": "83c93c34",
   "metadata": {},
   "outputs": [
    {
     "name": "stdout",
     "output_type": "stream",
     "text": [
      "2021\n",
      "No\n"
     ]
    }
   ],
   "source": [
    "a = int(input()) # Высокосный год\n",
    "print (\"Yes\") if (a % 4 == 0 and not (a % 100 == 0)) or (a % 400 == 0) else print(\"No\")"
   ]
  },
  {
   "cell_type": "code",
   "execution_count": 10,
   "id": "54c1ed6a",
   "metadata": {},
   "outputs": [
    {
     "name": "stdout",
     "output_type": "stream",
     "text": [
      "2\n",
      "1\n",
      "2\n",
      "2\n",
      "Yes\n"
     ]
    }
   ],
   "source": [
    "try:\n",
    "    a1 = int(input()) # Ход ладьи\n",
    "    a2 = int(input())\n",
    "    a3 = int(input())\n",
    "    a4 = int(input())\n",
    "\n",
    "    if a1 < 0 or a2 < 0 or a3 < 0 or a4 < 0:\n",
    "        print('Значение не может быть отрицательным')\n",
    "    elif a1 == a3 or a2 == a4:\n",
    "        print(\"Yes\")\n",
    "    else:\n",
    "        print(\"No\")\n",
    "        \n",
    "except ValueError:\n",
    "        print('Это не целое число!')"
   ]
  },
  {
   "cell_type": "code",
   "execution_count": 3,
   "id": "80643313",
   "metadata": {},
   "outputs": [
    {
     "name": "stdout",
     "output_type": "stream",
     "text": [
      "YES\n"
     ]
    }
   ],
   "source": [
    "try:    \n",
    "    a, b, c, d = (int(input()) for i in 'abcd') # Ход короля\n",
    "    if abs(a - c) <= 1 and abs(b - d) <= 1:\n",
    "        print('YES')\n",
    "    else:\n",
    "        print('NO')\n",
    "\n",
    "except ValueError:\n",
    "        print('Это не целое число!')"
   ]
  },
  {
   "cell_type": "code",
   "execution_count": 11,
   "id": "d406c9dc",
   "metadata": {
    "scrolled": true
   },
   "outputs": [
    {
     "name": "stdout",
     "output_type": "stream",
     "text": [
      "3\n",
      "3\n",
      "3\n",
      "Равносторонний треугольник\n"
     ]
    }
   ],
   "source": [
    "try:\n",
    "    a1 = float(input()) # Вид треугольника\n",
    "    a2 = float(input())\n",
    "    a3 = float(input())\n",
    "\n",
    "    if a1 <= 0 or a2 <= 0 or a3 <= 0:\n",
    "        print('Значение не может быть отрицательным')\n",
    "    elif a1 == a2 == a3:\n",
    "        print('Равносторонний треугольник')\n",
    "    elif a1 == a2 or a1 == a3 or a2 == a3:\n",
    "        print('Равнобедреный треугольник')\n",
    "    else:\n",
    "        print('Разносторонний треугольник')\n",
    "        \n",
    "except ValueError:\n",
    "    print('Это не число!')"
   ]
  },
  {
   "cell_type": "code",
   "execution_count": 9,
   "id": "9896a8a1",
   "metadata": {},
   "outputs": [
    {
     "name": "stdout",
     "output_type": "stream",
     "text": [
      "-2.5\n",
      "-2\n",
      "*\n",
      "5.0\n"
     ]
    }
   ],
   "source": [
    "try:\n",
    "    a1 = float(input()) # Самописный калькулятор\n",
    "    a2 = float(input())\n",
    "    a3 = input()\n",
    "\n",
    "    if a3 == '/' and a2 == 0:\n",
    "        print('На ноль делить нельзя!')\n",
    "    elif a3 == \"+\":\n",
    "        print(a1 + a2)\n",
    "    elif a3 == \"-\":\n",
    "        print(a1 - a2)\n",
    "    elif a3 == \"*\":\n",
    "        print(a1 * a2)\n",
    "    elif a3 == \"/\":\n",
    "        print(a1 / a2)\n",
    "    elif a3 == \"//\":\n",
    "        print(a1 // a2)\n",
    "    else:\n",
    "        print('Неверная операция')\n",
    "\n",
    "except ValueError:\n",
    "        print('Это не число!')"
   ]
  },
  {
   "cell_type": "code",
   "execution_count": 55,
   "id": "3657edff",
   "metadata": {},
   "outputs": [
    {
     "name": "stdout",
     "output_type": "stream",
     "text": [
      "red\n",
      "Yellow\n",
      "Orange\n"
     ]
    }
   ],
   "source": [
    "a = input() # Цветовой микшер\n",
    "b = input()\n",
    "\n",
    "if a == 'Red' or a == 'red':\n",
    "    if b == 'Red' or b == 'red':\n",
    "        print('Red')\n",
    "    elif b == 'Yellow' or b == 'yellow':\n",
    "        print('Orange')\n",
    "    elif b == 'Blue' or b == 'blue':\n",
    "        print('Purple')\n",
    "elif a == 'Blue' or a == 'blue':\n",
    "    if b == 'Blue' or b == 'blue':\n",
    "        print('Blue')\n",
    "    elif b == 'Yellow' or b == 'yellow':\n",
    "        print('Green')\n",
    "    elif b == 'Red' or b == 'red':\n",
    "        print('Purple')\n",
    "elif a == 'Yellow' or a == 'yellow':       \n",
    "    if b == 'Yellow' or b == 'yellow':\n",
    "        print('Yellow')\n",
    "    elif b == 'Red' or b == 'red':\n",
    "        print('Orange')\n",
    "    elif b == 'Blue' or b == 'blue':\n",
    "        print('Green')\n",
    "\n",
    "elif a not in ('Red', 'red', 'Blue', 'blue', 'Yellow', 'yellow'):\n",
    "    print('Ошибка цвета')\n",
    "elif b not in ('Red', 'red', 'Blue', 'blue', 'Yellow', 'yellow'):\n",
    "    print('Ошибка цвета')"
   ]
  },
  {
   "cell_type": "code",
   "execution_count": 2,
   "id": "2c495692",
   "metadata": {},
   "outputs": [
    {
     "name": "stdout",
     "output_type": "stream",
     "text": [
      "-2\n",
      "0\n",
      "-1\n",
      "2\n",
      "Отрезки пересекаются в интервале от -1 до 0\n"
     ]
    }
   ],
   "source": [
    "try:\n",
    "    a1 = int(input()) # Пересечение отрезков\n",
    "    b1 = int(input())\n",
    "    a2 = int(input())\n",
    "    b2 = int(input())\n",
    "\n",
    "    if a1 == b2:\n",
    "        print('Отрезки пересекаются в точке', a1)\n",
    "    elif b1 == a2:\n",
    "        print('Отрезки пересекаются в точке', a2)\n",
    "    elif a1 <= a2 and b1 >= b2:\n",
    "        print('Отрезки пересекаются в интервале от', a2, 'до', b2)\n",
    "    elif a2 <= a1 and b2 >= b1:\n",
    "        print('Отрезки пересекаются в интервале от', a1, 'до', b1)\n",
    "    elif a1 < a2 and a2 < b1 and b1 < b2:\n",
    "        print('Отрезки пересекаются в интервале от', a2, 'до', b1)\n",
    "    elif a2 < a1 and a1 < b2 and b2 < b1:\n",
    "        print('Отрезки пересекаются в интервале от', a1, 'до', b2)\n",
    "    else:\n",
    "        print('Отрезки не пересекаются')\n",
    "        \n",
    "except ValueError:\n",
    "        print('Это не целое число!')"
   ]
  }
 ],
 "metadata": {
  "kernelspec": {
   "display_name": "base",
   "language": "python",
   "name": "python3"
  },
  "language_info": {
   "codemirror_mode": {
    "name": "ipython",
    "version": 3
   },
   "file_extension": ".py",
   "mimetype": "text/x-python",
   "name": "python",
   "nbconvert_exporter": "python",
   "pygments_lexer": "ipython3",
   "version": "3.9.13 (main, Aug 25 2022, 23:51:50) [MSC v.1916 64 bit (AMD64)]"
  },
  "vscode": {
   "interpreter": {
    "hash": "ad2bdc8ecc057115af97d19610ffacc2b4e99fae6737bb82f5d7fb13d2f2c186"
   }
  }
 },
 "nbformat": 4,
 "nbformat_minor": 5
}
