{
 "cells": [
  {
   "cell_type": "code",
   "execution_count": 7,
   "id": "fa360f14",
   "metadata": {},
   "outputs": [
    {
     "name": "stdout",
     "output_type": "stream",
     "text": [
      "{'tuple', 'list', 'set'}\n"
     ]
    }
   ],
   "source": [
    "set = {\"set\", \"list\", \"tuple\"}  # Создание множества\n",
    "print (set) # Неупорядоченная и не индексируемая последовательность. В Python множества пишутся в фигурных скобках."
   ]
  },
  {
   "cell_type": "code",
   "execution_count": 8,
   "id": "58e4ea42",
   "metadata": {},
   "outputs": [
    {
     "name": "stdout",
     "output_type": "stream",
     "text": [
      "{'tuple', 'list', 'set'}\n"
     ]
    }
   ],
   "source": [
    "set = {\"set\", \"list\", \"tuple\", \"list\"}\n",
    "print (set)  # Множество хранит только уникальные элементы"
   ]
  },
  {
   "cell_type": "code",
   "execution_count": 20,
   "id": "a6cfd71b",
   "metadata": {},
   "outputs": [
    {
     "name": "stdout",
     "output_type": "stream",
     "text": [
      "tuple\n",
      "list\n",
      "set\n"
     ]
    }
   ],
   "source": [
    "set = {\"set\", \"list\", \"tuple\"}\n",
    "for x in set:  # Нельзя получить доступ к элементам по индексу, так как они не упорядочены, а элементы без индекса.\n",
    "    print(x) # Можно проходить по множеству с помощью цикла for или уточнять есть ли значение в множестве, используя оператор in."
   ]
  },
  {
   "cell_type": "code",
   "execution_count": 23,
   "id": "becf0bed",
   "metadata": {},
   "outputs": [
    {
     "name": "stdout",
     "output_type": "stream",
     "text": [
      "True\n",
      "False\n"
     ]
    }
   ],
   "source": [
    "set = {\"set\", \"list\", \"tuple\"}\n",
    "print (\"list\" in set) # Проверка присутствия элемента\n",
    "print (\"dict\" in set)"
   ]
  },
  {
   "cell_type": "code",
   "execution_count": 28,
   "id": "edeea806",
   "metadata": {},
   "outputs": [
    {
     "name": "stdout",
     "output_type": "stream",
     "text": [
      "{'dict', 'tuple', 'list', 'set'}\n"
     ]
    }
   ],
   "source": [
    "set = {\"set\", \"list\", \"tuple\"}  # Нельзя изменять элементы\n",
    "set.add (\"dict\") # Добавление одного элемента\n",
    "print (set)"
   ]
  },
  {
   "cell_type": "code",
   "execution_count": 27,
   "id": "289eebed",
   "metadata": {},
   "outputs": [
    {
     "name": "stdout",
     "output_type": "stream",
     "text": [
      "{'int', 'list', 'tuple', 'dict', 'class', 'set'}\n"
     ]
    }
   ],
   "source": [
    "set = {\"set\", \"list\", \"tuple\"}\n",
    "set.update ([\"dict\",  \"class\",  \"int\"]) # Добавление нескольких элементов\n",
    "print (set)"
   ]
  },
  {
   "cell_type": "code",
   "execution_count": 32,
   "id": "7372b2fb",
   "metadata": {},
   "outputs": [
    {
     "name": "stdout",
     "output_type": "stream",
     "text": [
      "{'tuple', 'set'}\n"
     ]
    }
   ],
   "source": [
    "set = {\"set\", \"list\", \"tuple\"}\n",
    "set.remove (\"list\") # Удаление элемента (Вызовет ошибку, если элемента не существует)\n",
    "print (set)"
   ]
  },
  {
   "cell_type": "code",
   "execution_count": 33,
   "id": "57e6fbed",
   "metadata": {},
   "outputs": [
    {
     "name": "stdout",
     "output_type": "stream",
     "text": [
      "{'tuple', 'set'}\n"
     ]
    }
   ],
   "source": [
    "set = {\"set\", \"list\", \"tuple\"}\n",
    "set.discard (\"list\") # Удаление элемента (НЕ вызовет ошибку, если элемента не существует)\n",
    "print (set)"
   ]
  },
  {
   "cell_type": "code",
   "execution_count": 40,
   "id": "e829eca5",
   "metadata": {},
   "outputs": [
    {
     "name": "stdout",
     "output_type": "stream",
     "text": [
      "<class 'set'>\n"
     ]
    }
   ],
   "source": [
    "set = {\"set\", \"list\", \"tuple\"}\n",
    "del set # Удаление множнества\n",
    "print (set)"
   ]
  },
  {
   "cell_type": "code",
   "execution_count": 37,
   "id": "0b51fafb",
   "metadata": {},
   "outputs": [
    {
     "name": "stdout",
     "output_type": "stream",
     "text": [
      "3\n"
     ]
    }
   ],
   "source": [
    "set = {\"set\", \"list\", \"tuple\"}\n",
    "print (len(set)) # Длина списка"
   ]
  },
  {
   "cell_type": "code",
   "execution_count": 38,
   "id": "793e426e",
   "metadata": {},
   "outputs": [
    {
     "name": "stdout",
     "output_type": "stream",
     "text": [
      "set()\n"
     ]
    }
   ],
   "source": [
    "set = {\"set\", \"list\", \"tuple\"}\n",
    "set.clear() # Очищение списка\n",
    "print (set)"
   ]
  }
 ],
 "metadata": {
  "kernelspec": {
   "display_name": "base",
   "language": "python",
   "name": "python3"
  },
  "language_info": {
   "codemirror_mode": {
    "name": "ipython",
    "version": 3
   },
   "file_extension": ".py",
   "mimetype": "text/x-python",
   "name": "python",
   "nbconvert_exporter": "python",
   "pygments_lexer": "ipython3",
   "version": "3.9.13 (main, Aug 25 2022, 23:51:50) [MSC v.1916 64 bit (AMD64)]"
  },
  "vscode": {
   "interpreter": {
    "hash": "ad2bdc8ecc057115af97d19610ffacc2b4e99fae6737bb82f5d7fb13d2f2c186"
   }
  }
 },
 "nbformat": 4,
 "nbformat_minor": 5
}
