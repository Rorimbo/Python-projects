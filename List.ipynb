{
 "cells": [
  {
   "cell_type": "code",
   "execution_count": 52,
   "id": "0165bf66",
   "metadata": {
    "scrolled": true
   },
   "outputs": [
    {
     "name": "stdout",
     "output_type": "stream",
     "text": [
      "['Яблоко', 'Банан', 'Вишня']\n"
     ]
    }
   ],
   "source": [
    "list = [\"Яблоко\", \"Банан\", \"Вишня\"] # Создание списка\n",
    "print (list) # Упорядоченная и изменяемая последовательность. В Python списки записываются в квадратных скобках."
   ]
  },
  {
   "cell_type": "code",
   "execution_count": 1,
   "id": "3f789479",
   "metadata": {},
   "outputs": [
    {
     "name": "stdout",
     "output_type": "stream",
     "text": [
      "Банан\n",
      "Яблоко\n",
      "Вишня\n"
     ]
    }
   ],
   "source": [
    "list = [\"Яблоко\", \"Банан\", \"Вишня\"]\n",
    "print (list [1]) # Доступ к элекменту по индексу\n",
    "print (list [0]) # Доступ к первому элекменту\n",
    "print (list [-1]) # Доступ к последнему элекменту"
   ]
  },
  {
   "cell_type": "code",
   "execution_count": 25,
   "id": "c7d2d6ac",
   "metadata": {},
   "outputs": [
    {
     "name": "stdout",
     "output_type": "stream",
     "text": [
      "['Яблоко', 'Апельсин', 'Вишня']\n"
     ]
    }
   ],
   "source": [
    "list = [\"Яблоко\", \"Банан\", \"Вишня\"]\n",
    "list [1] = \"Апельсин\" # Изменение элемента по индексу\n",
    "print (list)"
   ]
  },
  {
   "cell_type": "code",
   "execution_count": 43,
   "id": "ef95702b",
   "metadata": {},
   "outputs": [
    {
     "name": "stdout",
     "output_type": "stream",
     "text": [
      "['Яблоко', 'Банан', 'Вишня', 'Апельси', 'Апельсин']\n"
     ]
    }
   ],
   "source": [
    "list = [\"Яблоко\", \"Банан\", \"Вишня\"]\n",
    "list.append (\"Апельси\") # Добавление элемента в конец списка\n",
    "list.extend ([\"Апельсин\"]) # Добавление элемента в конец списка (можно добавлять списки)\n",
    "print (list)"
   ]
  },
  {
   "cell_type": "code",
   "execution_count": 27,
   "id": "39a33399",
   "metadata": {},
   "outputs": [
    {
     "name": "stdout",
     "output_type": "stream",
     "text": [
      "['Яблоко', 'Апельсин', 'Банан', 'Вишня']\n"
     ]
    }
   ],
   "source": [
    "list = [\"Яблоко\", \"Банан\", \"Вишня\"]\n",
    "list.insert (1, \"Апельсин\") # Добавление элемента по индексу\n",
    "print (list)"
   ]
  },
  {
   "cell_type": "code",
   "execution_count": 28,
   "id": "14848412",
   "metadata": {},
   "outputs": [
    {
     "name": "stdout",
     "output_type": "stream",
     "text": [
      "['Яблоко', 'Вишня']\n"
     ]
    }
   ],
   "source": [
    "list = [\"Яблоко\", \"Банан\", \"Вишня\"]\n",
    "list.remove (\"Банан\")  # Удаление элемента\n",
    "print (list)"
   ]
  },
  {
   "cell_type": "code",
   "execution_count": 47,
   "id": "cec9dcde",
   "metadata": {},
   "outputs": [
    {
     "name": "stdout",
     "output_type": "stream",
     "text": [
      "['Яблоко', 'Вишня']\n",
      "Банан\n"
     ]
    }
   ],
   "source": [
    "list = [\"Яблоко\", \"Банан\", \"Вишня\"]\n",
    "element = list.pop(1)  # Удаление элемента по индексу или последнего элемента\n",
    "print (list)\n",
    "print (element) # Отображение удаленного элемента"
   ]
  },
  {
   "cell_type": "code",
   "execution_count": 49,
   "id": "6592eb29",
   "metadata": {},
   "outputs": [
    {
     "name": "stdout",
     "output_type": "stream",
     "text": [
      "['Яблоко', 'Вишня']\n"
     ]
    }
   ],
   "source": [
    "list = [\"Яблоко\", \"Банан\", \"Вишня\"]\n",
    "del list [1] # Удаление элемента по индексу или всего списка\n",
    "print (list)"
   ]
  },
  {
   "cell_type": "code",
   "execution_count": 46,
   "id": "c98f47a8",
   "metadata": {},
   "outputs": [
    {
     "name": "stdout",
     "output_type": "stream",
     "text": [
      "3\n"
     ]
    }
   ],
   "source": [
    "list = [\"Яблоко\", \"Банан\", \"Вишня\"]\n",
    "print (len(list))  # Длина списка"
   ]
  },
  {
   "cell_type": "code",
   "execution_count": 41,
   "id": "3ae8b113",
   "metadata": {},
   "outputs": [
    {
     "name": "stdout",
     "output_type": "stream",
     "text": [
      "[]\n"
     ]
    }
   ],
   "source": [
    "list = [\"Яблоко\", \"Банан\", \"Вишня\"]\n",
    "list.clear() # Очищение списка\n",
    "print (list)"
   ]
  },
  {
   "cell_type": "code",
   "execution_count": 53,
   "id": "2d8d9510",
   "metadata": {},
   "outputs": [
    {
     "name": "stdout",
     "output_type": "stream",
     "text": [
      "Яблоко\n",
      "Банан\n",
      "Вишня\n"
     ]
    }
   ],
   "source": [
    "list = [\"Яблоко\", \"Банан\", \"Вишня\"]\n",
    "for x in list: # Итерация по списку\n",
    "    print (x)"
   ]
  },
  {
   "cell_type": "code",
   "execution_count": 44,
   "id": "781159d8",
   "metadata": {},
   "outputs": [
    {
     "name": "stdout",
     "output_type": "stream",
     "text": [
      "0\n"
     ]
    }
   ],
   "source": [
    "z = [4, 1, 5, 4, 10, 4]\n",
    "print (z.index(4)) # Возвращает индекс первого элемента"
   ]
  },
  {
   "cell_type": "code",
   "execution_count": 3,
   "id": "ed9271d2",
   "metadata": {},
   "outputs": [
    {
     "name": "stdout",
     "output_type": "stream",
     "text": [
      "3\n"
     ]
    }
   ],
   "source": [
    "z = [4, 1, 5, 4, 10, 4]\n",
    "print (z.count(4)) # Считает количество элемента"
   ]
  },
  {
   "cell_type": "code",
   "execution_count": 32,
   "id": "d9c19515",
   "metadata": {},
   "outputs": [
    {
     "name": "stdout",
     "output_type": "stream",
     "text": [
      "[1, 2, 3, 5, 5]\n"
     ]
    }
   ],
   "source": [
    "z = [5, 5, 2, 1, 3]\n",
    "z.sort() # Сортирует список по возрастанию\n",
    "print (z)"
   ]
  },
  {
   "cell_type": "code",
   "execution_count": 33,
   "id": "f94be6bc",
   "metadata": {},
   "outputs": [
    {
     "name": "stdout",
     "output_type": "stream",
     "text": [
      "[5, 5, 3, 2, 1]\n"
     ]
    }
   ],
   "source": [
    "z = [5, 5, 2, 1, 3]\n",
    "z.sort(reverse = True) # Сортирует список по убыванию\n",
    "print (z)"
   ]
  },
  {
   "cell_type": "code",
   "execution_count": 1,
   "id": "877f33dd",
   "metadata": {},
   "outputs": [
    {
     "name": "stdout",
     "output_type": "stream",
     "text": [
      "[3, 1, 2, 5, 5]\n"
     ]
    }
   ],
   "source": [
    "z = [5, 5, 2, 1, 3]\n",
    "z.reverse() # Сортирует список от последнего элемента к первому (не по убыванию)\n",
    "print (z)"
   ]
  }
 ],
 "metadata": {
  "kernelspec": {
   "display_name": "base",
   "language": "python",
   "name": "python3"
  },
  "language_info": {
   "codemirror_mode": {
    "name": "ipython",
    "version": 3
   },
   "file_extension": ".py",
   "mimetype": "text/x-python",
   "name": "python",
   "nbconvert_exporter": "python",
   "pygments_lexer": "ipython3",
   "version": "3.9.13 (main, Aug 25 2022, 23:51:50) [MSC v.1916 64 bit (AMD64)]"
  },
  "vscode": {
   "interpreter": {
    "hash": "ad2bdc8ecc057115af97d19610ffacc2b4e99fae6737bb82f5d7fb13d2f2c186"
   }
  }
 },
 "nbformat": 4,
 "nbformat_minor": 5
}
