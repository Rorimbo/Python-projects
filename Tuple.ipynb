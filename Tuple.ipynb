{
 "cells": [
  {
   "cell_type": "code",
   "execution_count": 3,
   "id": "f7007914",
   "metadata": {},
   "outputs": [
    {
     "name": "stdout",
     "output_type": "stream",
     "text": [
      "('Country', 'Player', 'Goal')\n"
     ]
    }
   ],
   "source": [
    "tuple = (\"Country\", \"Player\", \"Goal\") # Создание кортежа\n",
    "print(tuple) # Упорядоченная последовательность, неизменяемая. В Python кортежи пишутся в круглых скобках."
   ]
  },
  {
   "cell_type": "code",
   "execution_count": 4,
   "id": "7adf7bcb",
   "metadata": {},
   "outputs": [
    {
     "name": "stdout",
     "output_type": "stream",
     "text": [
      "Player\n"
     ]
    }
   ],
   "source": [
    "tuple = (\"Country\", \"Player\", \"Goal\")\n",
    "print (tuple[1]) # Доступ к элементу по индексу"
   ]
  },
  {
   "cell_type": "code",
   "execution_count": 7,
   "id": "7b5f6111",
   "metadata": {},
   "outputs": [
    {
     "ename": "TypeError",
     "evalue": "'tuple' object does not support item assignment",
     "output_type": "error",
     "traceback": [
      "\u001b[1;31m---------------------------------------------------------------------------\u001b[0m",
      "\u001b[1;31mTypeError\u001b[0m                                 Traceback (most recent call last)",
      "\u001b[1;32m~\\AppData\\Local\\Temp\\ipykernel_6380\\2968785869.py\u001b[0m in \u001b[0;36m<module>\u001b[1;34m\u001b[0m\n\u001b[0;32m      1\u001b[0m \u001b[0mtuple\u001b[0m \u001b[1;33m=\u001b[0m \u001b[1;33m(\u001b[0m\u001b[1;34m\"Country\"\u001b[0m\u001b[1;33m,\u001b[0m \u001b[1;34m\"Player\"\u001b[0m\u001b[1;33m,\u001b[0m \u001b[1;34m\"Goal\"\u001b[0m\u001b[1;33m)\u001b[0m\u001b[1;33m\u001b[0m\u001b[1;33m\u001b[0m\u001b[0m\n\u001b[1;32m----> 2\u001b[1;33m \u001b[0mtuple\u001b[0m \u001b[1;33m[\u001b[0m\u001b[1;36m1\u001b[0m\u001b[1;33m]\u001b[0m \u001b[1;33m=\u001b[0m \u001b[1;34m\"Name\"\u001b[0m \u001b[1;31m# Изменение элемента по индексу\u001b[0m\u001b[1;33m\u001b[0m\u001b[1;33m\u001b[0m\u001b[0m\n\u001b[0m\u001b[0;32m      3\u001b[0m \u001b[0mprint\u001b[0m \u001b[1;33m(\u001b[0m\u001b[0mtuple\u001b[0m\u001b[1;33m)\u001b[0m\u001b[1;33m\u001b[0m\u001b[1;33m\u001b[0m\u001b[0m\n",
      "\u001b[1;31mTypeError\u001b[0m: 'tuple' object does not support item assignment"
     ]
    }
   ],
   "source": [
    "tuple = (\"Country\", \"Player\", \"Goal\")\n",
    "tuple [1] = \"Name\" # Изменение и добавление элементов НЕ возможно!\n",
    "print (tuple)"
   ]
  },
  {
   "cell_type": "code",
   "execution_count": 20,
   "id": "fa60d65e",
   "metadata": {},
   "outputs": [
    {
     "name": "stdout",
     "output_type": "stream",
     "text": [
      "<class 'tuple'>\n"
     ]
    }
   ],
   "source": [
    "tuple = (\"Country\", \"Player\", \"Goal\")\n",
    "del tuple # Удаление кортежа (нельзя удалить элементы по отдельности)\n",
    "print (tuple)"
   ]
  },
  {
   "cell_type": "code",
   "execution_count": 21,
   "id": "1288718c",
   "metadata": {},
   "outputs": [
    {
     "name": "stdout",
     "output_type": "stream",
     "text": [
      "3\n",
      "7\n"
     ]
    }
   ],
   "source": [
    "tuple = (\"Country\", \"Player\", \"Goal\")\n",
    "print (len(tuple)) # Длина списка\n",
    "print (len(tuple[0])) # Длина первого элемента из списка"
   ]
  },
  {
   "cell_type": "code",
   "execution_count": 22,
   "id": "a90c28b7",
   "metadata": {},
   "outputs": [
    {
     "name": "stdout",
     "output_type": "stream",
     "text": [
      "Country\n",
      "Player\n",
      "Goal\n"
     ]
    }
   ],
   "source": [
    "tuple = (\"Country\", \"Player\", \"Goal\")\n",
    "for x in tuple: # Итерация по списку\n",
    "    print (x)"
   ]
  },
  {
   "cell_type": "code",
   "execution_count": 28,
   "id": "199d161b",
   "metadata": {},
   "outputs": [
    {
     "name": "stdout",
     "output_type": "stream",
     "text": [
      "1\n"
     ]
    }
   ],
   "source": [
    "tuple = (\"Country\", \"Player\", \"Goal\", \"Player\")\n",
    "print (tuple.index(\"Player\")) # Возвращает индекс первого элемента"
   ]
  },
  {
   "cell_type": "code",
   "execution_count": 30,
   "id": "178da217",
   "metadata": {},
   "outputs": [
    {
     "name": "stdout",
     "output_type": "stream",
     "text": [
      "2\n"
     ]
    }
   ],
   "source": [
    "tuple = (\"Country\", \"Player\", \"Goal\", \"Player\")\n",
    "print (tuple.count(\"Player\")) # Считает количество элемента"
   ]
  }
 ],
 "metadata": {
  "kernelspec": {
   "display_name": "base",
   "language": "python",
   "name": "python3"
  },
  "language_info": {
   "codemirror_mode": {
    "name": "ipython",
    "version": 3
   },
   "file_extension": ".py",
   "mimetype": "text/x-python",
   "name": "python",
   "nbconvert_exporter": "python",
   "pygments_lexer": "ipython3",
   "version": "3.9.13 (main, Aug 25 2022, 23:51:50) [MSC v.1916 64 bit (AMD64)]"
  },
  "vscode": {
   "interpreter": {
    "hash": "ad2bdc8ecc057115af97d19610ffacc2b4e99fae6737bb82f5d7fb13d2f2c186"
   }
  }
 },
 "nbformat": 4,
 "nbformat_minor": 5
}
