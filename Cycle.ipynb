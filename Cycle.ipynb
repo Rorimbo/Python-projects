{
 "cells": [
  {
   "cell_type": "code",
   "execution_count": 67,
   "id": "4f0ca8ef",
   "metadata": {},
   "outputs": [
    {
     "name": "stdout",
     "output_type": "stream",
     "text": [
      "5\n",
      "4\n",
      "3\n",
      "2\n"
     ]
    }
   ],
   "source": [
    "i = 5 # while\n",
    "while i > 1:\n",
    "    print (i)\n",
    "    i -= 1"
   ]
  },
  {
   "cell_type": "code",
   "execution_count": 31,
   "id": "d40c0416",
   "metadata": {
    "scrolled": false
   },
   "outputs": [
    {
     "name": "stdout",
     "output_type": "stream",
     "text": [
      "0\n",
      "1\n",
      "2\n"
     ]
    }
   ],
   "source": [
    "i = 0 # operator break\n",
    "while i < 5:\n",
    "    print (i)\n",
    "    if i == 2:\n",
    "        break\n",
    "    i += 1"
   ]
  },
  {
   "cell_type": "code",
   "execution_count": 27,
   "id": "03b8d7db",
   "metadata": {},
   "outputs": [
    {
     "name": "stdout",
     "output_type": "stream",
     "text": [
      "3\n",
      "4\n",
      "5\n"
     ]
    }
   ],
   "source": [
    "i = 1 # operator continue\n",
    "while i < 5:\n",
    "    i += 1\n",
    "    if i == 2:\n",
    "        continue\n",
    "    print (i)"
   ]
  },
  {
   "cell_type": "code",
   "execution_count": 24,
   "id": "2382d29a",
   "metadata": {},
   "outputs": [
    {
     "name": "stdout",
     "output_type": "stream",
     "text": [
      "Яблоко\n",
      "Апельсин\n",
      "Вишня\n"
     ]
    }
   ],
   "source": [
    "fruits = [\"Яблоко\", \"Апельсин\", \"Вишня\"] # for\n",
    "for x in fruits:\n",
    "    print (x)"
   ]
  },
  {
   "cell_type": "code",
   "execution_count": 11,
   "id": "aebf2565",
   "metadata": {},
   "outputs": [
    {
     "name": "stdout",
     "output_type": "stream",
     "text": [
      "Я\n",
      "б\n",
      "л\n",
      "о\n",
      "к\n",
      "о\n"
     ]
    }
   ],
   "source": [
    "fruits = [\"Яблоко\", \"Апельсин\", \"Вишня\"] # Итерация по строке\n",
    "for x in \"Яблоко\":\n",
    "    print (x)"
   ]
  },
  {
   "cell_type": "code",
   "execution_count": 22,
   "id": "a453eaaa",
   "metadata": {},
   "outputs": [
    {
     "name": "stdout",
     "output_type": "stream",
     "text": [
      "Яблоко\n",
      "Апельсин\n"
     ]
    }
   ],
   "source": [
    "fruits = [\"Яблоко\", \"Апельсин\", \"Вишня\"] # operator break\n",
    "for x in fruits:\n",
    "    print (x)\n",
    "    if x == \"Апельсин\":\n",
    "        break"
   ]
  },
  {
   "cell_type": "code",
   "execution_count": 23,
   "id": "451bb6e2",
   "metadata": {},
   "outputs": [
    {
     "name": "stdout",
     "output_type": "stream",
     "text": [
      "Яблоко\n"
     ]
    }
   ],
   "source": [
    "fruits = [\"Яблоко\", \"Апельсин\", \"Вишня\"] # operator break (не включительно)\n",
    "for x in fruits:\n",
    "    if x == \"Апельсин\":\n",
    "        break\n",
    "    print (x)"
   ]
  },
  {
   "cell_type": "code",
   "execution_count": 32,
   "id": "ffface58",
   "metadata": {},
   "outputs": [
    {
     "name": "stdout",
     "output_type": "stream",
     "text": [
      "Яблоко\n",
      "Вишня\n"
     ]
    }
   ],
   "source": [
    "fruits = [\"Яблоко\", \"Апельсин\", \"Вишня\"] # operator continue\n",
    "for x in fruits:\n",
    "    if x == \"Апельсин\":\n",
    "        continue\n",
    "    print (x)"
   ]
  },
  {
   "cell_type": "code",
   "execution_count": 45,
   "id": "e0f79ac5",
   "metadata": {},
   "outputs": [
    {
     "name": "stdout",
     "output_type": "stream",
     "text": [
      "0\n",
      "1\n",
      "2\n",
      "3\n",
      "4\n"
     ]
    }
   ],
   "source": [
    "for x in range (5): # function range (Повтор цикла n раз. По умолчанию начинается с 0 и увеличивает последовательность на 1)\n",
    "    print (x)"
   ]
  },
  {
   "cell_type": "code",
   "execution_count": 46,
   "id": "44d96494",
   "metadata": {},
   "outputs": [
    {
     "name": "stdout",
     "output_type": "stream",
     "text": [
      "2\n",
      "3\n",
      "4\n"
     ]
    }
   ],
   "source": [
    "for x in range (2,5): # первое число - начало цикла\n",
    "    print (x)"
   ]
  },
  {
   "cell_type": "code",
   "execution_count": 47,
   "id": "e1fda5a4",
   "metadata": {},
   "outputs": [
    {
     "name": "stdout",
     "output_type": "stream",
     "text": [
      "2\n",
      "4\n",
      "6\n",
      "8\n"
     ]
    }
   ],
   "source": [
    "for x in range (2,10,2): # последнее число - увеличение последовательности\n",
    "    print (x)"
   ]
  },
  {
   "cell_type": "code",
   "execution_count": 50,
   "id": "8485b848",
   "metadata": {},
   "outputs": [
    {
     "name": "stdout",
     "output_type": "stream",
     "text": [
      "0\n",
      "1\n",
      "2\n",
      "3\n",
      "4\n",
      "end cycle\n"
     ]
    }
   ],
   "source": [
    "for x in range (5): # Else в цикле For\n",
    "    print (x)\n",
    "else:\n",
    "    print (\"end cycle\")"
   ]
  },
  {
   "cell_type": "code",
   "execution_count": 61,
   "id": "6e0cd412",
   "metadata": {},
   "outputs": [
    {
     "name": "stdout",
     "output_type": "stream",
     "text": [
      "Яблоко Красный\n",
      "Яблоко Оранжевый\n",
      "Яблоко Желтый\n",
      "Апельсин Красный\n",
      "Апельсин Оранжевый\n",
      "Апельсин Желтый\n",
      "Вишня Красный\n",
      "Вишня Оранжевый\n",
      "Вишня Желтый\n"
     ]
    }
   ],
   "source": [
    "fruits = [\"Яблоко\", \"Апельсин\", \"Вишня\"]\n",
    "abc = [\"Красный\", \"Оранжевый\", \"Желтый\"]\n",
    "\n",
    "for x in fruits:\n",
    "    for y in abc: # Вложенный цикл\n",
    "        print (x, y)"
   ]
  },
  {
   "cell_type": "code",
   "execution_count": 68,
   "id": "62fc4098",
   "metadata": {},
   "outputs": [
    {
     "name": "stdout",
     "output_type": "stream",
     "text": [
      "a = 1\n",
      "a = 2\n",
      "a = 3\n",
      "b = 1\n",
      "b = 2\n",
      "b = 3\n",
      "c = 1\n",
      "c = 2\n",
      "c = 3\n"
     ]
    }
   ],
   "source": [
    "abc = [\"a\", \"b\", \"c\"]\n",
    "num = [\"1\", \"2\", \"3\"]\n",
    "for x in abc:\n",
    "    for y in num: # Вложенный цикл\n",
    "        print (x, \"=\", y)"
   ]
  },
  {
   "cell_type": "code",
   "execution_count": 87,
   "id": "14285e7b",
   "metadata": {},
   "outputs": [
    {
     "name": "stdout",
     "output_type": "stream",
     "text": [
      "5.0\n"
     ]
    }
   ],
   "source": [
    "x = lambda a, b: a / b\n",
    "print(x(10,2))"
   ]
  },
  {
   "cell_type": "code",
   "execution_count": 88,
   "id": "70805943",
   "metadata": {},
   "outputs": [
    {
     "name": "stdout",
     "output_type": "stream",
     "text": [
      "8\n"
     ]
    }
   ],
   "source": [
    "x = lambda a,b,c: a*(b+c) # lambda\n",
    "print (x(2,2,2))"
   ]
  },
  {
   "cell_type": "code",
   "execution_count": 89,
   "id": "f0e35c9d",
   "metadata": {},
   "outputs": [
    {
     "name": "stdout",
     "output_type": "stream",
     "text": [
      "4\n"
     ]
    }
   ],
   "source": [
    "def func(n): # lambda function\n",
    "    return lambda a: a*n\n",
    "\n",
    "abc = func(2)\n",
    "print(abc(2))"
   ]
  }
 ],
 "metadata": {
  "kernelspec": {
   "display_name": "base",
   "language": "python",
   "name": "python3"
  },
  "language_info": {
   "codemirror_mode": {
    "name": "ipython",
    "version": 3
   },
   "file_extension": ".py",
   "mimetype": "text/x-python",
   "name": "python",
   "nbconvert_exporter": "python",
   "pygments_lexer": "ipython3",
   "version": "3.9.13 (main, Aug 25 2022, 23:51:50) [MSC v.1916 64 bit (AMD64)]"
  },
  "vscode": {
   "interpreter": {
    "hash": "ad2bdc8ecc057115af97d19610ffacc2b4e99fae6737bb82f5d7fb13d2f2c186"
   }
  }
 },
 "nbformat": 4,
 "nbformat_minor": 5
}
